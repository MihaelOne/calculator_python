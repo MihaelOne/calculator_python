{
 "cells": [
  {
   "cell_type": "code",
   "execution_count": 14,
   "id": "cdf94e8d",
   "metadata": {},
   "outputs": [],
   "source": [
    "import tkinter as tk\n",
    "from tkinter import ttk\n"
   ]
  },
  {
   "cell_type": "code",
   "execution_count": 15,
   "id": "6f790963",
   "metadata": {},
   "outputs": [
    {
     "data": {
      "text/plain": [
       "''"
      ]
     },
     "execution_count": 15,
     "metadata": {},
     "output_type": "execute_result"
    }
   ],
   "source": [
    "root = tk.Tk()\n",
    "root.title(\"Jupyter Tkinter Kalkulator\")"
   ]
  },
  {
   "cell_type": "code",
   "execution_count": 16,
   "id": "54f90ae0",
   "metadata": {},
   "outputs": [],
   "source": [
    "frame = ttk.Frame(root, padding=\"10\")\n",
    "frame.grid()"
   ]
  },
  {
   "cell_type": "code",
   "execution_count": 17,
   "id": "ab0073af",
   "metadata": {},
   "outputs": [],
   "source": [
    "expression = \"\"\n",
    "def button_click(value):\n",
    "    global expression\n",
    "    expression = expression + value\n",
    "    label_var.set(expression)"
   ]
  },
  {
   "cell_type": "code",
   "execution_count": 18,
   "id": "0ad47e46",
   "metadata": {},
   "outputs": [],
   "source": [
    "def calculate():\n",
    "    try:\n",
    "        result = eval(expression)\n",
    "        label_var.set(result)\n",
    "    except:\n",
    "        label_var.set(\"Error\")"
   ]
  },
  {
   "cell_type": "code",
   "execution_count": 19,
   "id": "fb92f075",
   "metadata": {},
   "outputs": [],
   "source": [
    "def clear():\n",
    "    global expression\n",
    "    expression = \"\"\n",
    "    label_var.set(\"\")"
   ]
  },
  {
   "cell_type": "code",
   "execution_count": 20,
   "id": "1abbac81",
   "metadata": {},
   "outputs": [],
   "source": [
    "label_var = tk.StringVar()\n",
    "label_var.set(\"\")"
   ]
  },
  {
   "cell_type": "code",
   "execution_count": 21,
   "id": "88e265ba",
   "metadata": {},
   "outputs": [],
   "source": [
    "label = ttk.Label(frame, textvariable=label_var, anchor=\"e\", font=(\"Arial\", 18))\n",
    "label.grid(row=0, column=0, columnspan=4, sticky=\"news\")"
   ]
  },
  {
   "cell_type": "code",
   "execution_count": 22,
   "id": "a935d22d",
   "metadata": {},
   "outputs": [],
   "source": [
    "buttons = [\n",
    "    '7', '8', '9', '/',\n",
    "    '4', '5', '6', '*',\n",
    "    '1', '2', '3', '-',\n",
    "    '0', '.', '=', '+'\n",
    "]"
   ]
  },
  {
   "cell_type": "code",
   "execution_count": 23,
   "id": "6a4f0feb",
   "metadata": {},
   "outputs": [],
   "source": [
    "row = 1\n",
    "col = 0\n",
    "for button in buttons:\n",
    "    ttk.Button(frame, text=button, command=lambda value=button: button_click(value)).grid(row=row, column=col, sticky=\"news\", padx=5, pady=5)\n",
    "    col += 1\n",
    "    if col > 3:\n",
    "        col = 0\n",
    "        row += 1"
   ]
  },
  {
   "cell_type": "code",
   "execution_count": 24,
   "id": "ee07ad90",
   "metadata": {},
   "outputs": [],
   "source": [
    "ttk.Button(frame, text='C', command=clear).grid(row=5, column=0, columnspan=2, sticky=\"news\", padx=5, pady=5)\n"
   ]
  },
  {
   "cell_type": "code",
   "execution_count": 25,
   "id": "55570ebf",
   "metadata": {},
   "outputs": [],
   "source": [
    "ttk.Button(frame, text='=', command=calculate).grid(row=5, column=2, columnspan=2, sticky=\"news\", padx=5, pady=5)\n"
   ]
  },
  {
   "cell_type": "code",
   "execution_count": 26,
   "id": "debd426b",
   "metadata": {},
   "outputs": [],
   "source": [
    "root.mainloop()\n"
   ]
  },
  {
   "cell_type": "code",
   "execution_count": null,
   "id": "507c0a3a",
   "metadata": {},
   "outputs": [],
   "source": []
  },
  {
   "cell_type": "code",
   "execution_count": null,
   "id": "5834e81c",
   "metadata": {},
   "outputs": [],
   "source": []
  }
 ],
 "metadata": {
  "kernelspec": {
   "display_name": "Python 3 (ipykernel)",
   "language": "python",
   "name": "python3"
  },
  "language_info": {
   "codemirror_mode": {
    "name": "ipython",
    "version": 3
   },
   "file_extension": ".py",
   "mimetype": "text/x-python",
   "name": "python",
   "nbconvert_exporter": "python",
   "pygments_lexer": "ipython3",
   "version": "3.9.12"
  }
 },
 "nbformat": 4,
 "nbformat_minor": 5
}
